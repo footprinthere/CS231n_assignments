{
 "cells": [
  {
   "cell_type": "code",
   "execution_count": 1,
   "metadata": {},
   "outputs": [],
   "source": [
    "import numpy as np\n",
    "\n",
    "def digitize(array, max=10):\n",
    "    array *= max\n",
    "    array //= 1\n",
    "    return array\n",
    "\n",
    "def rand(*shape, type=int, max=10):\n",
    "    return digitize(np.random.rand(*shape), max=max).astype(type)\n",
    "\n",
    "num_train = 3\n",
    "num_classes = 4\n",
    "d = 2"
   ]
  },
  {
   "cell_type": "code",
   "execution_count": 2,
   "metadata": {},
   "outputs": [
    {
     "name": "stdout",
     "output_type": "stream",
     "text": [
      "(2, 4) (3, 2) (3,)\n"
     ]
    }
   ],
   "source": [
    "W = rand(d, num_classes, type=float)\n",
    "X = rand(num_train, d)\n",
    "y = rand(num_train, max=num_classes)\n",
    "print(W.shape, X.shape, y.shape)"
   ]
  },
  {
   "cell_type": "code",
   "execution_count": 3,
   "metadata": {},
   "outputs": [
    {
     "name": "stdout",
     "output_type": "stream",
     "text": [
      "11.44380394635649\n"
     ]
    }
   ],
   "source": [
    "from cs231n.classifiers.softmax import softmax_loss_vectorized\n",
    "loss, grad = softmax_loss_vectorized(W, X, y, reg=0)\n",
    "print(loss)"
   ]
  },
  {
   "cell_type": "code",
   "execution_count": null,
   "metadata": {},
   "outputs": [],
   "source": []
  }
 ],
 "metadata": {
  "kernelspec": {
   "display_name": "Python 3",
   "language": "python",
   "name": "python3"
  },
  "language_info": {
   "codemirror_mode": {
    "name": "ipython",
    "version": 3
   },
   "file_extension": ".py",
   "mimetype": "text/x-python",
   "name": "python",
   "nbconvert_exporter": "python",
   "pygments_lexer": "ipython3",
   "version": "3.10.8"
  },
  "orig_nbformat": 4
 },
 "nbformat": 4,
 "nbformat_minor": 2
}
